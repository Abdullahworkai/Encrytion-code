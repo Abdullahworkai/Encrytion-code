{
  "nbformat": 4,
  "nbformat_minor": 0,
  "metadata": {
    "colab": {
      "provenance": []
    },
    "kernelspec": {
      "name": "python3",
      "display_name": "Python 3"
    },
    "language_info": {
      "name": "python"
    }
  },
  "cells": [
    {
      "cell_type": "code",
      "execution_count": 1,
      "metadata": {
        "colab": {
          "base_uri": "https://localhost:8080/"
        },
        "id": "70eIk-G7DavD",
        "outputId": "2f545537-d9d7-4840-85db-70fcb1fb1cec"
      },
      "outputs": [
        {
          "output_type": "stream",
          "name": "stdout",
          "text": [
            "\u001b[2K   \u001b[90m━━━━━━━━━━━━━━━━━━━━━━━━━━━━━━━━━━━━━━━━\u001b[0m \u001b[32m24.1/24.1 MB\u001b[0m \u001b[31m81.7 MB/s\u001b[0m eta \u001b[36m0:00:00\u001b[0m\n",
            "\u001b[2K   \u001b[90m━━━━━━━━━━━━━━━━━━━━━━━━━━━━━━━━━━━━━━━━\u001b[0m \u001b[32m175.3/175.3 kB\u001b[0m \u001b[31m17.5 MB/s\u001b[0m eta \u001b[36m0:00:00\u001b[0m\n",
            "\u001b[?25h"
          ]
        }
      ],
      "source": [
        "!pip -q install pymupdf gradio pandas openpyxl xlsxwriter"
      ]
    },
    {
      "cell_type": "code",
      "source": [
        "\n",
        "import re, json, os, tempfile\n",
        "from pathlib import Path\n",
        "import fitz\n",
        "import gradio as gr\n",
        "import pandas as pd\n",
        "\n",
        "# ---------- Core encryptor ----------\n",
        "class StudentIDEncryptor:\n",
        "    def __init__(self, font_name=\"Helvetica-Bold\", size_scale=1.35, min_font=12):\n",
        "        self.number_to_letter = {'0':'A','1':'B','2':'C','3':'D','4':'E','5':'F','6':'G','7':'H','8':'I','9':'J'}\n",
        "        self.letter_to_number = {v:k for k,v in self.number_to_letter.items()}\n",
        "        self.id_mappings = {}\n",
        "        self.font_name = font_name\n",
        "        self.size_scale = float(size_scale)\n",
        "        self.min_font = int(min_font)\n",
        "\n",
        "    def encrypt_student_id(self, student_id: str) -> str:\n",
        "        return \"\".join(self.number_to_letter[c] if c.isdigit() else c for c in str(student_id))\n",
        "\n",
        "    def _encrypt_match_text(self, text: str):\n",
        "        m = re.search(r'For:\\s*(\\d+)', text)\n",
        "        if not m:\n",
        "            return text, None\n",
        "        original_id = m.group(1)\n",
        "        encrypted_id = self.encrypt_student_id(original_id)\n",
        "        new_text = text[:m.start(1)] + encrypted_id + text[m.end(1):]\n",
        "        self.id_mappings[original_id] = encrypted_id\n",
        "        return new_text, original_id\n",
        "\n",
        "    def process_pdf(self, input_path: str, output_path: str) -> dict:\n",
        "        doc = fitz.open(input_path)\n",
        "        for page in doc:\n",
        "            page_dict = page.get_text(\"dict\")\n",
        "            to_redact = []\n",
        "            for block in page_dict.get(\"blocks\", []):\n",
        "                if \"lines\" not in block:\n",
        "                    continue\n",
        "                for line in block[\"lines\"]:\n",
        "                    line_has_for = any(\"For:\" in s.get(\"text\", \"\") for s in line.get(\"spans\", []))\n",
        "                    for span in line.get(\"spans\", []):\n",
        "                        text = span.get(\"text\", \"\")\n",
        "                        bbox = span.get(\"bbox\", None)\n",
        "                        if not bbox or not text:\n",
        "                            continue\n",
        "\n",
        "                        # Case A: whole pattern in one span\n",
        "                        if re.search(r'For:\\s*\\d+', text):\n",
        "                            new_text, original_id = self._encrypt_match_text(text)\n",
        "                            if original_id is not None and new_text != text:\n",
        "                                rect = fitz.Rect(bbox)\n",
        "                                size = max(self.min_font, int(span.get(\"size\", 10) * self.size_scale))\n",
        "                                to_redact.append((rect, new_text, size, self.font_name))\n",
        "                                continue\n",
        "\n",
        "                        # Case B: digits are in a separate span on the same line\n",
        "                        if line_has_for and re.fullmatch(r'\\s*\\d+\\s*', text):\n",
        "                            digits = re.search(r'(\\d+)', text).group(1)\n",
        "                            encrypted = self.encrypt_student_id(digits)\n",
        "                            self.id_mappings[digits] = encrypted\n",
        "                            rect = fitz.Rect(bbox)\n",
        "                            new_text = re.sub(r'\\d+', encrypted, text)\n",
        "                            size = max(self.min_font, int(span.get(\"size\", 10) * self.size_scale))\n",
        "                            to_redact.append((rect, new_text, size, self.font_name))\n",
        "\n",
        "            for rect, replacement, font_size, font_name in to_redact:\n",
        "                page.add_redact_annot(\n",
        "                    rect,\n",
        "                    text=replacement,\n",
        "                    fill=(1,1,1),\n",
        "                    text_color=(0,0,0),\n",
        "                    fontsize=font_size,\n",
        "                    fontname=font_name,\n",
        "                )\n",
        "            if to_redact:\n",
        "                page.apply_redactions()\n",
        "\n",
        "        doc.save(output_path)\n",
        "        doc.close()\n",
        "        return self.id_mappings\n",
        "\n",
        "# ---------- Excel restore helpers ----------\n",
        "LETTER_TO_NUM = dict(zip(\"ABCDEFGHIJ\", \"0123456789\"))\n",
        "\n",
        "def decrypt_letters(s: str) -> str:\n",
        "    return \"\".join(LETTER_TO_NUM.get(c, c) for c in s)\n",
        "\n",
        "def restore_text_with_rule(text: str) -> str:\n",
        "    if not isinstance(text, str):\n",
        "        return text\n",
        "    # Replace sequences like 'For: ABCDEF' → 'For: 123456'\n",
        "    text = re.sub(r'(?i)(For:\\s*)([A-J]+)', lambda m: m.group(1) + decrypt_letters(m.group(2).upper()), text)\n",
        "    # Also convert standalone A–J-only tokens of length ≥ 3 (likely IDs)\n",
        "    def token_repl(m):\n",
        "        t = m.group(0)\n",
        "        return decrypt_letters(t)\n",
        "    return re.sub(r'\\b[A-J]{3,}\\b', token_repl, text)\n",
        "\n",
        "def restore_with_mapping(text: str, enc_to_orig: dict) -> str:\n",
        "    if not isinstance(text, str):\n",
        "        return text\n",
        "    # Replace exact encrypted tokens first\n",
        "    for enc, orig in sorted(enc_to_orig.items(), key=lambda kv: -len(kv[0])):  # longest first\n",
        "        text = re.sub(rf'\\b{re.escape(enc)}\\b', orig, text)\n",
        "    # Then handle 'For: ENCRYPTED' patterns that include punctuation/spacing\n",
        "    text = re.sub(\n",
        "        r'(For:\\s*)([A-J]+)',\n",
        "        lambda m: m.group(1) + enc_to_orig.get(m.group(2), m.group(2)),\n",
        "        text\n",
        "    )\n",
        "    return text\n",
        "\n",
        "# ---------- Gradio functions ----------\n",
        "def ui_encrypt_pdf(file, font, scale):\n",
        "    enc = StudentIDEncryptor(font_name=font, size_scale=scale)\n",
        "    tmpdir = tempfile.mkdtemp()\n",
        "    out_pdf = os.path.join(tmpdir, \"encrypted.pdf\")\n",
        "    enc.process_pdf(file.name, out_pdf)\n",
        "    map_path = os.path.join(tmpdir, \"id_mappings.json\")\n",
        "    with open(map_path, \"w\") as f:\n",
        "        json.dump(enc.id_mappings, f, indent=2)\n",
        "    # Optional: also give CSV/Excel mapping\n",
        "    mapping_xlsx = os.path.join(tmpdir, \"id_mappings.xlsx\")\n",
        "    pd.DataFrame([{\"original\": k, \"encrypted\": v} for k, v in enc.id_mappings.items()]) \\\n",
        "        .to_excel(mapping_xlsx, index=False)\n",
        "    return out_pdf, map_path, mapping_xlsx\n",
        "\n",
        "def ui_restore_excel(xlsx_file, mappings_json):\n",
        "    df = pd.read_excel(xlsx_file)\n",
        "\n",
        "    # Build mapping if provided\n",
        "    enc_to_orig = {}\n",
        "    if mappings_json is not None:\n",
        "        with open(mappings_json.name, \"r\") as f:\n",
        "            m = json.load(f)\n",
        "        enc_to_orig = {v: k for k, v in m.items()}\n",
        "\n",
        "    # Apply to all string cells\n",
        "    df_restored = df.copy()\n",
        "    for col in df_restored.columns:\n",
        "        if enc_to_orig:\n",
        "            df_restored[col] = df_restored[col].apply(lambda x: restore_with_mapping(x, enc_to_orig))\n",
        "        df_restored[col] = df_restored[col].apply(restore_text_with_rule)\n",
        "\n",
        "    tmpdir = tempfile.mkdtemp()\n",
        "    out_xlsx = os.path.join(tmpdir, \"restored.xlsx\")\n",
        "    with pd.ExcelWriter(out_xlsx, engine=\"xlsxwriter\") as writer:\n",
        "        df_restored.to_excel(writer, index=False)\n",
        "    return out_xlsx\n",
        "\n",
        "with gr.Blocks(title=\"Cadet ID Encryptor/Restorer\") as demo:\n",
        "    gr.Markdown(\"**Encrypt cadet IDs in PDFs and restore them in Excel results.**\")\n",
        "\n",
        "    with gr.Tab(\"Encrypt PDF\"):\n",
        "        inp = gr.File(label=\"Upload PDF\")\n",
        "        font = gr.Dropdown(choices=[\"Helvetica\",\"Helvetica-Bold\",\"Times-Roman\",\"Courier\"], value=\"Helvetica-Bold\", label=\"Font\")\n",
        "        scale = gr.Slider(1.0, 2.0, value=1.35, step=0.05, label=\"Font size scale\")\n",
        "        btn = gr.Button(\"Encrypt\")\n",
        "        out_pdf = gr.File(label=\"Encrypted PDF\")\n",
        "        out_json = gr.File(label=\"ID Mappings JSON\")\n",
        "        out_map_xlsx = gr.File(label=\"ID Mappings Excel\")\n",
        "        btn.click(ui_encrypt_pdf, inputs=[inp, font, scale], outputs=[out_pdf, out_json, out_map_xlsx])\n",
        "\n",
        "    with gr.Tab(\"Restore IDs in Excel\"):\n",
        "        xlsx = gr.File(label=\"Upload Excel with GPT outputs (.xlsx)\")\n",
        "        map_json = gr.File(label=\"Upload ID Mappings JSON (optional, improves accuracy)\")\n",
        "        btn2 = gr.Button(\"Restore IDs\")\n",
        "        out_xlsx = gr.File(label=\"Restored Excel\")\n",
        "        btn2.click(ui_restore_excel, inputs=[xlsx, map_json], outputs=out_xlsx)\n",
        "\n",
        "demo.launch()"
      ],
      "metadata": {
        "colab": {
          "base_uri": "https://localhost:8080/",
          "height": 648
        },
        "id": "NjfehdRZDe0c",
        "outputId": "1ffd81cf-013a-4662-e9b4-d103fe8f129c"
      },
      "execution_count": 2,
      "outputs": [
        {
          "output_type": "stream",
          "name": "stdout",
          "text": [
            "It looks like you are running Gradio on a hosted Jupyter notebook, which requires `share=True`. Automatically setting `share=True` (you can turn this off by setting `share=False` in `launch()` explicitly).\n",
            "\n",
            "Colab notebook detected. To show errors in colab notebook, set debug=True in launch()\n",
            "* Running on public URL: https://56f4ece34e62c06860.gradio.live\n",
            "\n",
            "This share link expires in 1 week. For free permanent hosting and GPU upgrades, run `gradio deploy` from the terminal in the working directory to deploy to Hugging Face Spaces (https://huggingface.co/spaces)\n"
          ]
        },
        {
          "output_type": "display_data",
          "data": {
            "text/plain": [
              "<IPython.core.display.HTML object>"
            ],
            "text/html": [
              "<div><iframe src=\"https://56f4ece34e62c06860.gradio.live\" width=\"100%\" height=\"500\" allow=\"autoplay; camera; microphone; clipboard-read; clipboard-write;\" frameborder=\"0\" allowfullscreen></iframe></div>"
            ]
          },
          "metadata": {}
        },
        {
          "output_type": "execute_result",
          "data": {
            "text/plain": []
          },
          "metadata": {},
          "execution_count": 2
        }
      ]
    },
    {
      "cell_type": "code",
      "source": [],
      "metadata": {
        "id": "gcwPs6CLDzc3"
      },
      "execution_count": null,
      "outputs": []
    }
  ]
}